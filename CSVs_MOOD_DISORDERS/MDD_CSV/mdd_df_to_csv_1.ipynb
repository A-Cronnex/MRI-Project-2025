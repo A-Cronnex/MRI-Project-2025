{
 "cells": [
  {
   "cell_type": "code",
   "execution_count": 1,
   "id": "1b1db62f-9c00-4cd9-87eb-bd866c2a3fb5",
   "metadata": {},
   "outputs": [],
   "source": [
    "import pandas as pd\n",
    "import os"
   ]
  },
  {
   "cell_type": "code",
   "execution_count": 2,
   "id": "eb8d3bdc-26bf-4e88-9075-cced05ab792c",
   "metadata": {},
   "outputs": [],
   "source": [
    "cwd = os.getcwd()\n",
    "csv_files = [ path_to_csv for path_to_csv in os.listdir(cwd) if path_to_csv[-3:] == 'csv']"
   ]
  },
  {
   "cell_type": "code",
   "execution_count": 3,
   "id": "790c66cf-12b4-4e89-8b49-0773ab91e87d",
   "metadata": {},
   "outputs": [],
   "source": [
    "csv_dataframes = [pd.read_csv(csv) for csv in csv_files]"
   ]
  },
  {
   "cell_type": "code",
   "execution_count": 4,
   "id": "92be3ebb-8c66-4142-bc88-a37d2506a857",
   "metadata": {},
   "outputs": [],
   "source": [
    "concat_dfs = pd.concat(csv_dataframes)"
   ]
  },
  {
   "cell_type": "code",
   "execution_count": 5,
   "id": "e079c1da-eb05-4707-be60-5ef9e53b6a28",
   "metadata": {},
   "outputs": [],
   "source": [
    "concat_dfs[\"diagnosis\"] = 2"
   ]
  },
  {
   "cell_type": "code",
   "execution_count": 6,
   "id": "75e49274-1cdc-4d7d-bf20-72ccce55a09c",
   "metadata": {},
   "outputs": [],
   "source": [
    "concat_dfs.to_csv(\"mdd_headers.csv\",index=False,header=True)"
   ]
  },
  {
   "cell_type": "code",
   "execution_count": null,
   "id": "2d04d595-415f-4f62-9d60-d508c1c67170",
   "metadata": {},
   "outputs": [],
   "source": [
    "#Bipolar - 1\n",
    "#MDD - 2\n",
    "#Control - 0"
   ]
  },
  {
   "cell_type": "code",
   "execution_count": null,
   "id": "d7c91b9a-84d5-4d99-948b-0822466f5817",
   "metadata": {},
   "outputs": [],
   "source": []
  }
 ],
 "metadata": {
  "kernelspec": {
   "display_name": "Python 3 (ipykernel)",
   "language": "python",
   "name": "python3"
  },
  "language_info": {
   "codemirror_mode": {
    "name": "ipython",
    "version": 3
   },
   "file_extension": ".py",
   "mimetype": "text/x-python",
   "name": "python",
   "nbconvert_exporter": "python",
   "pygments_lexer": "ipython3",
   "version": "3.12.3"
  }
 },
 "nbformat": 4,
 "nbformat_minor": 5
}
