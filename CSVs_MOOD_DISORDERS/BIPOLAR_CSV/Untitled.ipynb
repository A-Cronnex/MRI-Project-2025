{
 "cells": [
  {
   "cell_type": "code",
   "execution_count": 1,
   "id": "2ade5cb0-62f1-4d2f-b8b8-5dba3d5ba634",
   "metadata": {},
   "outputs": [],
   "source": [
    "import pandas as pd\n",
    "import os\n",
    "cwd = os.getcwd()\n",
    "csv_files = [ path_to_csv for path_to_csv in os.listdir(cwd) if path_to_csv[-3:] == 'csv']\n",
    "csv_dataframes = [pd.read_csv(csv) for csv in csv_files]\n",
    "concat_dfs = pd.concat(csv_dataframes)\n",
    "concat_dfs.to_csv(\"control_headers.csv\",index=False,header=True)"
   ]
  },
  {
   "cell_type": "code",
   "execution_count": null,
   "id": "6b70b657-2891-462b-809c-ac8286b3f5f7",
   "metadata": {},
   "outputs": [],
   "source": []
  }
 ],
 "metadata": {
  "kernelspec": {
   "display_name": "Python 3 (ipykernel)",
   "language": "python",
   "name": "python3"
  },
  "language_info": {
   "codemirror_mode": {
    "name": "ipython",
    "version": 3
   },
   "file_extension": ".py",
   "mimetype": "text/x-python",
   "name": "python",
   "nbconvert_exporter": "python",
   "pygments_lexer": "ipython3",
   "version": "3.12.3"
  }
 },
 "nbformat": 4,
 "nbformat_minor": 5
}
