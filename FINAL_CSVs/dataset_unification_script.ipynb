{
 "cells": [
  {
   "cell_type": "code",
   "execution_count": 1,
   "id": "43324ded-b694-4975-a31a-e6775bd29d90",
   "metadata": {},
   "outputs": [],
   "source": [
    "import pandas as pd\n",
    "import os\n",
    "cwd = os.getcwd()\n",
    "csv_files = [ path_to_csv for path_to_csv in os.listdir(cwd) if path_to_csv[-3:] == 'csv']\n",
    "csv_dataframes = []\n",
    "for csv in csv_files:\n",
    "    df = pd.read_csv(csv)\n",
    "    df.drop(df.columns[0], axis=1, inplace=True)  # Drop the first column\n",
    "    csv_dataframes.append(df)\n",
    "\n",
    "concat_dfs = pd.concat(csv_dataframes)\n",
    "concat_dfs.to_csv(\"DATASET_MDs.csv\",index=False,header=True)"
   ]
  },
  {
   "cell_type": "code",
   "execution_count": 4,
   "id": "3d0a0bee-5511-4ca9-8bbe-3418158b7834",
   "metadata": {},
   "outputs": [],
   "source": [
    "import pandas as pd\n",
    "import os\n",
    "dataset = pd.read_csv(\"DATASET_MDs.csv\")\n",
    "csv_df = [pd.read_csv(\"CONTROL_0_FINAL.csv\"), pd.read_csv(\"MDD_2_FINAL.csv\"), dataset]\n",
    "\n",
    "conc = pd.concat(csv_df)\n",
    "conc.to_csv(\"NEW_DATASET_MDs.csv\", index=False, header=True)"
   ]
  },
  {
   "cell_type": "code",
   "execution_count": null,
   "id": "eeef5893-3499-4556-ba71-b52d7ba8e86c",
   "metadata": {},
   "outputs": [],
   "source": []
  }
 ],
 "metadata": {
  "kernelspec": {
   "display_name": "Python 3 (ipykernel)",
   "language": "python",
   "name": "python3"
  },
  "language_info": {
   "codemirror_mode": {
    "name": "ipython",
    "version": 3
   },
   "file_extension": ".py",
   "mimetype": "text/x-python",
   "name": "python",
   "nbconvert_exporter": "python",
   "pygments_lexer": "ipython3",
   "version": "3.12.3"
  }
 },
 "nbformat": 4,
 "nbformat_minor": 5
}
