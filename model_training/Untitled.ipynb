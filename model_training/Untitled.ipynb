{
 "cells": [
  {
   "cell_type": "code",
   "execution_count": 54,
   "id": "d3485de8-5804-4c72-950f-905d58fc9e82",
   "metadata": {},
   "outputs": [],
   "source": [
    "import matplotlib.pyplot as plt\n",
    "from sklearn.svm import SVC\n",
    "import pandas as pd\n",
    "from sklearn.model_selection import train_test_split\n",
    "from sklearn.pipeline import Pipeline\n",
    "from sklearn.ensemble import RandomForestClassifier\n",
    "from sklearn.preprocessing import StandardScaler\n",
    "from sklearn.feature_selection import SelectKBest, f_classif\n",
    "from sklearn.model_selection import GridSearchCV\n",
    "from sklearn.decomposition import PCA\n",
    "from sklearn.metrics import accuracy_score "
   ]
  },
  {
   "cell_type": "code",
   "execution_count": 55,
   "id": "19bce39a-e23a-47e0-877b-600f9fd71125",
   "metadata": {},
   "outputs": [],
   "source": [
    "dataset = pd.read_csv(\"../FINAL_CSVs/DATASET_MDs.csv\")"
   ]
  },
  {
   "cell_type": "code",
   "execution_count": 56,
   "id": "646b8f2f-e132-4cb7-93c4-e07f0cbdbd83",
   "metadata": {},
   "outputs": [],
   "source": [
    "X_values = dataset.drop(columns=[\"MRID\",\"diagnosis\"])\n",
    "Y_values = dataset[\"diagnosis\"]"
   ]
  },
  {
   "cell_type": "code",
   "execution_count": 57,
   "id": "e8c0b4db-98f3-4cd7-b614-4926b4267e9d",
   "metadata": {},
   "outputs": [],
   "source": [
    "X_train, x_test, y_train, y_test = train_test_split(X_values, Y_values, test_size=0.2, random_state=42) #dividir datasets"
   ]
  },
  {
   "cell_type": "code",
   "execution_count": 58,
   "id": "e19128a6-a29f-4072-994b-503e3c970000",
   "metadata": {},
   "outputs": [],
   "source": [
    "scaler = StandardScaler()\n",
    "X_train_scaled = scaler.fit_transform(X_train)\n",
    "x_test_scaled = scaler.transform(x_test)"
   ]
  },
  {
   "cell_type": "code",
   "execution_count": 59,
   "id": "df9c59bd-0f8c-452d-a16d-d9170f066e34",
   "metadata": {},
   "outputs": [],
   "source": [
    "#Crear pipeline\n",
    "#pipeline = Pipeline([('scaler',StandardScaler(),('pca',PCA(n_components=40)),('rf',RandomForestClassifier()])"
   ]
  },
  {
   "cell_type": "code",
   "execution_count": 70,
   "id": "06874354-68a9-43dd-8952-0adb9be80441",
   "metadata": {},
   "outputs": [
    {
     "data": {
      "text/plain": [
       "0.8142857142857143"
      ]
     },
     "execution_count": 70,
     "metadata": {},
     "output_type": "execute_result"
    }
   ],
   "source": [
    "pca_40 = PCA(n_components=40)\n",
    "X_pca_40 = pca_40.fit_transform(X_train_scaled)\n",
    "X_test_pca = pca_40.transform(X_test_scaled)\n",
    "\n",
    "rf_on_pca_40 = RandomForestClassifier(n_estimators=100, random_state=42)\n",
    "rf_on_pca_40.fit(X_pca_40, y_train)\n",
    "rf_top_35_pca_indices = rf_on_pca_40.feature_importances_.argsort()[-35:][::-1]\n",
    "X_pca_rf_35 = X_pca_40[:, rf_top_35_pca_indices]\n",
    "X_test_pca_35 = X_test_pca[:, rf_top_35_pca_indices]\n",
    "\n",
    "\n",
    "anova_final_selector = SelectKBest(score_func=f_classif, k=20)\n",
    "X_final = anova_final_selector.fit_transform(X_pca_rf_35, y_train)\n",
    "X_test = anova_final_selector.transform(X_test_pca_35)\n",
    "\n",
    "\n",
    "svm_model = SVC(kernel='rbf', C=10, gamma=0.001, random_state=42)\n",
    "svm_model.fit(X_final, y_train)\n",
    "y_predict = svm_model.predict(X_test)\n",
    "accuracy = accuracy_score(y, y_predict)\n",
    "accuracy"
   ]
  },
  {
   "cell_type": "code",
   "execution_count": 62,
   "id": "ec7fce82-042f-481e-95f8-44e3c9307b61",
   "metadata": {},
   "outputs": [
    {
     "name": "stdout",
     "output_type": "stream",
     "text": [
      "[0 2 2 0 0 2 2 0 2 0 1 0 0 0 2 1 0 0 2 1 0 1 2 1 0 1 2 1 1 0 2 0 1 1 2 2 1\n",
      " 1 0 0 1 1 2 1 2 0 1 2 1 2 2 1 2 1 2 2 1 0 1 2 2 1 1 2 1 1 0 2 0 2]\n",
      "[0, 2, 2, 0, 0, 2, 2, 0, 2, 0, 1, 0, 0, 0, 0, 1, 2, 1, 1, 1, 0, 1, 0, 2, 1, 1, 2, 1, 1, 0, 2, 0, 1, 1, 2, 1, 1, 1, 0, 2, 1, 1, 2, 1, 2, 0, 1, 2, 1, 2, 2, 1, 1, 1, 2, 2, 1, 0, 1, 1, 0, 1, 1, 2, 1, 1, 0, 0, 0, 2]\n"
     ]
    }
   ],
   "source": [
    "print(y_predict)\n",
    "print(list(y_test))"
   ]
  },
  {
   "cell_type": "code",
   "execution_count": 64,
   "id": "3819b189-b9f1-4470-be55-ca49f8963bb2",
   "metadata": {},
   "outputs": [],
   "source": [
    "from sklearn.metrics import confusion_matrix, ConfusionMatrixDisplay"
   ]
  },
  {
   "cell_type": "code",
   "execution_count": 68,
   "id": "6610888d-6062-4f6c-b06c-dee8b325930f",
   "metadata": {},
   "outputs": [
    {
     "data": {
      "text/plain": [
       "<sklearn.metrics._plot.confusion_matrix.ConfusionMatrixDisplay at 0x7d14d4246810>"
      ]
     },
     "execution_count": 68,
     "metadata": {},
     "output_type": "execute_result"
    },
    {
     "data": {
      "image/png": "[encoded data removed]",
      "text/plain": [
       "<Figure size 640x480 with 2 Axes>"
      ]
     },
     "metadata": {},
     "output_type": "display_data"
    }
   ],
   "source": [
    "cf = confusion_matrix(y_test,y_predict, labels=svm_model.classes_)\n",
    "DISP = ConfusionMatrixDisplay(cf, display_labels=svm_model.classes_)\n",
    "DISP.plot()"
   ]
  },
  {
   "cell_type": "code",
   "execution_count": 45,
   "id": "207e2ce8-922d-4e6b-8755-27d6507a04ff",
   "metadata": {},
   "outputs": [
    {
     "name": "stdout",
     "output_type": "stream",
     "text": [
      "Test accuracy: 0.8143\n"
     ]
    }
   ],
   "source": [
    "from sklearn.decomposition import PCA\n",
    "from sklearn.ensemble import RandomForestClassifier\n",
    "from sklearn.feature_selection import SelectKBest, f_classif\n",
    "from sklearn.svm import SVC\n",
    "from sklearn.preprocessing import StandardScaler\n",
    "from sklearn.model_selection import train_test_split\n",
    "\n",
    "# Split data\n",
    "X_train, X_test, y_train, y_test = train_test_split(X_values, Y_values, test_size = 0.2, random_state=42)\n",
    "\n",
    "# Fit scaler on train\n",
    "scaler = StandardScaler()\n",
    "X_train_scaled = scaler.fit_transform(X_train)\n",
    "X_test_scaled = scaler.transform(X_test)\n",
    "\n",
    "# Fit PCA on train\n",
    "pca_40 = PCA(n_components=40)\n",
    "X_train_pca = pca_40.fit_transform(X_train_scaled)\n",
    "X_test_pca = pca_40.transform(X_test_scaled)\n",
    "\n",
    "# Fit RF on train\n",
    "rf = RandomForestClassifier(n_estimators=100, random_state=42)\n",
    "rf.fit(X_train_pca, y_train)\n",
    "top_35_idx = rf.feature_importances_.argsort()[-35:][::-1]\n",
    "X_train_rf = X_train_pca[:, top_35_idx]\n",
    "X_test_rf = X_test_pca[:, top_35_idx]\n",
    "\n",
    "# Fit ANOVA on train\n",
    "anova = SelectKBest(score_func=f_classif, k=20)\n",
    "X_train_final = anova.fit_transform(X_train_rf, y_train)\n",
    "X_test_final = anova.transform(X_test_rf)\n",
    "\n",
    "# Train SVM\n",
    "svm = SVC(kernel='rbf', C=10, gamma=0.001, random_state=42)\n",
    "svm.fit(X_train_final, y_train)\n",
    "\n",
    "# Predict & Evaluate\n",
    "from sklearn.metrics import accuracy_score\n",
    "y_pred = svm.predict(X_test_final)\n",
    "accuracy = accuracy_score(y_test, y_pred)\n",
    "print(f\"Test accuracy: {accuracy:.4f}\")\n"
   ]
  },
  {
   "cell_type": "code",
   "execution_count": null,
   "id": "1a0c62ac-786a-4698-9e57-8d15fafbacdb",
   "metadata": {},
   "outputs": [],
   "source": []
  }
 ],
 "metadata": {
  "kernelspec": {
   "display_name": "Python 3 (ipykernel)",
   "language": "python",
   "name": "python3"
  },
  "language_info": {
   "codemirror_mode": {
    "name": "ipython",
    "version": 3
   },
   "file_extension": ".py",
   "mimetype": "text/x-python",
   "name": "python",
   "nbconvert_exporter": "python",
   "pygments_lexer": "ipython3",
   "version": "3.12.3"
  }
 },
 "nbformat": 4,
 "nbformat_minor": 5
}
