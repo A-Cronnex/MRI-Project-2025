{
 "cells": [
  {
   "cell_type": "code",
   "execution_count": 1,
   "id": "d3485de8-5804-4c72-950f-905d58fc9e82",
   "metadata": {},
   "outputs": [],
   "source": [
    "import matplotlib.pyplot as plt\n",
    "from sklearn.svm import SVC\n",
    "import pandas as pd\n",
    "from sklearn.model_selection import train_test_split\n",
    "from sklearn.pipeline import Pipeline\n",
    "from sklearn.ensemble import RandomForestClassifier\n",
    "from sklearn.preprocessing import StandardScaler\n",
    "from sklearn.feature_selection import SelectKBest, f_classif\n",
    "from sklearn.model_selection import GridSearchCV\n",
    "from sklearn.decomposition import PCA\n",
    "from sklearn.metrics import accuracy_score \n",
    "import numpy as np"
   ]
  },
  {
   "cell_type": "code",
   "execution_count": 2,
   "id": "19bce39a-e23a-47e0-877b-600f9fd71125",
   "metadata": {},
   "outputs": [],
   "source": [
    "dataset = pd.read_csv(\"../FINAL_CSVs/DATASET_MDs.csv\")"
   ]
  },
  {
   "cell_type": "code",
   "execution_count": 3,
   "id": "646b8f2f-e132-4cb7-93c4-e07f0cbdbd83",
   "metadata": {},
   "outputs": [],
   "source": [
    "X_values = dataset.drop(columns=[\"MRID\",\"diagnosis\"])\n",
    "Y_values = dataset[\"diagnosis\"]"
   ]
  },
  {
   "cell_type": "code",
   "execution_count": 4,
   "id": "e8c0b4db-98f3-4cd7-b614-4926b4267e9d",
   "metadata": {},
   "outputs": [],
   "source": [
    "X_train, x_test, y_train, y_test = train_test_split(X_values, Y_values, test_size=0.2, random_state=42) #dividir datasets"
   ]
  },
  {
   "cell_type": "code",
   "execution_count": 5,
   "id": "e19128a6-a29f-4072-994b-503e3c970000",
   "metadata": {},
   "outputs": [],
   "source": [
    "scaler = StandardScaler()\n",
    "X_train_scaled = scaler.fit_transform(X_train)\n",
    "x_test_scaled = scaler.transform(x_test)"
   ]
  },
  {
   "cell_type": "code",
   "execution_count": 6,
   "id": "df9c59bd-0f8c-452d-a16d-d9170f066e34",
   "metadata": {},
   "outputs": [],
   "source": [
    "#Crear pipeline\n",
    "#pipeline = Pipeline([('scaler',StandardScaler(),('pca',PCA(n_components=40)),('rf',RandomForestClassifier()])"
   ]
  },
  {
   "cell_type": "code",
   "execution_count": 7,
   "id": "06874354-68a9-43dd-8952-0adb9be80441",
   "metadata": {},
   "outputs": [
    {
     "data": {
      "text/plain": [
       "0.8142857142857143"
      ]
     },
     "execution_count": 7,
     "metadata": {},
     "output_type": "execute_result"
    }
   ],
   "source": [
    "pca_40 = PCA(n_components=40)\n",
    "X_pca_40 = pca_40.fit_transform(X_train_scaled)\n",
    "X_test_pca = pca_40.transform(x_test_scaled)\n",
    "\n",
    "rf_on_pca_40 = RandomForestClassifier(n_estimators=100, random_state=42)\n",
    "rf_on_pca_40.fit(X_pca_40, y_train)\n",
    "rf_top_35_pca_indices = rf_on_pca_40.feature_importances_.argsort()[-35:][::-1]\n",
    "X_pca_rf_35 = X_pca_40[:, rf_top_35_pca_indices]\n",
    "X_test_pca_35 = X_test_pca[:, rf_top_35_pca_indices]\n",
    "\n",
    "\n",
    "anova_final_selector = SelectKBest(score_func=f_classif, k=20)\n",
    "X_final = anova_final_selector.fit_transform(X_pca_rf_35, y_train)\n",
    "X_test = anova_final_selector.transform(X_test_pca_35)\n",
    "\n",
    "\n",
    "svm_model = SVC(kernel='rbf', C=10, gamma=0.001, random_state=42)\n",
    "svm_model.fit(X_final, y_train)\n",
    "y_predict = svm_model.predict(X_test)\n",
    "accuracy = accuracy_score(y_test, y_predict)\n",
    "accuracy"
   ]
  },
  {
   "cell_type": "code",
   "execution_count": 8,
   "id": "ec7fce82-042f-481e-95f8-44e3c9307b61",
   "metadata": {},
   "outputs": [
    {
     "name": "stdout",
     "output_type": "stream",
     "text": [
      "[0 2 2 0 0 2 2 0 2 0 1 0 0 0 2 1 0 0 2 1 0 1 2 1 0 1 2 1 1 0 2 0 1 1 2 2 1\n",
      " 1 0 0 1 1 2 1 2 0 1 2 1 2 2 1 2 1 2 2 1 0 1 2 2 1 1 2 1 1 0 2 0 2]\n",
      "[0, 2, 2, 0, 0, 2, 2, 0, 2, 0, 1, 0, 0, 0, 0, 1, 2, 1, 1, 1, 0, 1, 0, 2, 1, 1, 2, 1, 1, 0, 2, 0, 1, 1, 2, 1, 1, 1, 0, 2, 1, 1, 2, 1, 2, 0, 1, 2, 1, 2, 2, 1, 1, 1, 2, 2, 1, 0, 1, 1, 0, 1, 1, 2, 1, 1, 0, 0, 0, 2]\n"
     ]
    }
   ],
   "source": [
    "print(y_predict)\n",
    "print(list(y_test))\n",
    "dataset = pd.read_csv(\"FINAL.csv\")\n",
    "X_values = dataset.drop(columns = [\"MRID\",\"diagnosis\"])\n",
    "Y_values = dataset[\"diagnosis\"]\n",
    "\n",
    "new_predict "
   ]
  },
  {
   "cell_type": "code",
   "execution_count": 9,
   "id": "3819b189-b9f1-4470-be55-ca49f8963bb2",
   "metadata": {},
   "outputs": [],
   "source": [
    "from sklearn.metrics import confusion_matrix, ConfusionMatrixDisplay"
   ]
  },
  {
   "cell_type": "code",
   "execution_count": 10,
   "id": "6610888d-6062-4f6c-b06c-dee8b325930f",
   "metadata": {},
   "outputs": [
    {
     "data": {
      "text/plain": [
       "<sklearn.metrics._plot.confusion_matrix.ConfusionMatrixDisplay at 0x7094a3a52ea0>"
      ]
     },
     "execution_count": 10,
     "metadata": {},
     "output_type": "execute_result"
    },
    {
     "data": {
      "image/png": "[encoded data removed]",
      "text/plain": [
       "<Figure size 640x480 with 2 Axes>"
      ]
     },
     "metadata": {},
     "output_type": "display_data"
    }
   ],
   "source": [
    "cf = confusion_matrix(y_test,y_predict, labels=svm_model.classes_)\n",
    "DISP = ConfusionMatrixDisplay(cf, display_labels=svm_model.classes_)\n",
    "DISP.plot()"
   ]
  },
  {
   "cell_type": "code",
   "execution_count": 11,
   "id": "207e2ce8-922d-4e6b-8755-27d6507a04ff",
   "metadata": {},
   "outputs": [
    {
     "data": {
      "text/plain": [
       "array([[ 0.08174266,  0.08832804,  0.00380678, ...,  0.04696473,\n",
       "         0.05671034,  0.05336982],\n",
       "       [-0.00352816, -0.00211119, -0.00571941, ...,  0.06432053,\n",
       "        -0.04400192,  0.05342809],\n",
       "       [ 0.10502038,  0.07651994,  0.12516063, ..., -0.0739751 ,\n",
       "        -0.03256441, -0.01920171],\n",
       "       ...,\n",
       "       [-0.02195683,  0.00335697, -0.09004639, ..., -0.07254549,\n",
       "        -0.15560761,  0.02665681],\n",
       "       [-0.00079697, -0.00600804,  0.0159156 , ..., -0.03526116,\n",
       "         0.07531977, -0.06691592],\n",
       "       [-0.00482581, -0.00384204, -0.00565625, ..., -0.0294796 ,\n",
       "        -0.13282831,  0.15327371]], shape=(40, 260))"
      ]
     },
     "execution_count": 11,
     "metadata": {},
     "output_type": "execute_result"
    }
   ],
   "source": [
    "pca_40.components_"
   ]
  },
  {
   "cell_type": "code",
   "execution_count": 12,
   "id": "1a0c62ac-786a-4698-9e57-8d15fafbacdb",
   "metadata": {},
   "outputs": [
    {
     "data": {
      "text/plain": [
       "array([17.05349627, 38.76860107, 20.4466344 , 21.46415252,  9.16139796,\n",
       "       15.80098562,  9.73754601, 14.50097241,  5.27222535,  3.20581971,\n",
       "        1.50433907,  2.27618892,  5.76478878,  1.76219381,  3.61491568,\n",
       "        2.90894038,  0.68448307,  0.99240091,  0.78485709,  0.60809202,\n",
       "        0.74032618,  2.02914357,  0.93723351,  1.63410383,  1.2129453 ,\n",
       "        1.64628309,  0.85117675,  0.83565521,  0.68512215,  1.0771749 ,\n",
       "        0.70703851,  0.07943875,  0.07026323,  1.16224666,  0.8002558 ])"
      ]
     },
     "execution_count": 12,
     "metadata": {},
     "output_type": "execute_result"
    }
   ],
   "source": [
    "anova_final_selector.scores_"
   ]
  },
  {
   "cell_type": "code",
   "execution_count": 13,
   "id": "9b80ef5e-8a18-4c9a-a0a8-625195951b2b",
   "metadata": {},
   "outputs": [
    {
     "data": {
      "text/plain": [
       "array([ 3,  0,  7, 10,  2,  5,  6, 21, 16, 24,  1, 15, 13, 30, 20, 36, 27,\n",
       "       18, 32,  4, 33,  9, 31, 26, 17, 37, 11, 34, 28, 29, 19, 25, 35,  8,\n",
       "       22])"
      ]
     },
     "execution_count": 13,
     "metadata": {},
     "output_type": "execute_result"
    }
   ],
   "source": [
    "rf_top_35_pca_indices"
   ]
  },
  {
   "cell_type": "code",
   "execution_count": 14,
   "id": "8f6ee7ae-f693-4f16-8d6f-8d725a7b770d",
   "metadata": {},
   "outputs": [
    {
     "data": {
      "text/plain": [
       "array([[  1.39546851, -14.01143468,   0.60923684, ...,  -0.19300085,\n",
       "         -1.29622908,  -0.27867785],\n",
       "       [ -1.41775735,  -8.81568325,   0.72654377, ...,  -0.81606032,\n",
       "          1.13065334,   1.44346217],\n",
       "       [ -1.50721766,   1.96706744,   2.82250403, ...,   0.75460678,\n",
       "         -0.64372629,  -0.30593082],\n",
       "       ...,\n",
       "       [ -1.56470153,  25.29432446,  -0.69428214, ...,  -1.76069569,\n",
       "          3.34086689,  -0.65150099],\n",
       "       [ -2.97632598,  -2.60910901,  -0.05881695, ...,  -0.03810781,\n",
       "         -0.48329906,   1.16530644],\n",
       "       [ -0.12330693,   6.10136656,   0.77276346, ...,  -0.50703127,\n",
       "          2.56819389,  -1.37994276]], shape=(280, 35))"
      ]
     },
     "execution_count": 14,
     "metadata": {},
     "output_type": "execute_result"
    }
   ],
   "source": [
    "X_pca_rf_35"
   ]
  },
  {
   "cell_type": "code",
   "execution_count": 15,
   "id": "7fa411c9-46d1-47cd-bc18-e6c77d9becfd",
   "metadata": {},
   "outputs": [
    {
     "data": {
      "text/plain": [
       "array([[ 1.39546851e+00, -1.40114347e+01,  6.09236837e-01, ...,\n",
       "         1.04676136e+00,  1.18597929e+00, -4.08319032e-01],\n",
       "       [-1.41775735e+00, -8.81568325e+00,  7.26543766e-01, ...,\n",
       "        -1.05164505e+00,  7.00672312e-01,  2.00375726e+00],\n",
       "       [-1.50721766e+00,  1.96706744e+00,  2.82250403e+00, ...,\n",
       "         9.86673095e-01, -7.88792911e-01,  5.09175910e-01],\n",
       "       ...,\n",
       "       [-1.56470153e+00,  2.52943245e+01, -6.94282142e-01, ...,\n",
       "         1.72284582e-01, -2.81186621e-01,  7.28868642e-01],\n",
       "       [-2.97632598e+00, -2.60910901e+00, -5.88169545e-02, ...,\n",
       "         1.03538642e+00, -1.14304855e-02,  8.92129077e-01],\n",
       "       [-1.23306929e-01,  6.10136656e+00,  7.72763460e-01, ...,\n",
       "        -1.24885940e+00, -7.49627992e-01, -2.08667021e-01]],\n",
       "      shape=(280, 20))"
      ]
     },
     "execution_count": 15,
     "metadata": {},
     "output_type": "execute_result"
    }
   ],
   "source": [
    "X_final"
   ]
  },
  {
   "cell_type": "code",
   "execution_count": 16,
   "id": "9c5a1b37-5b34-4030-b912-ebe1196b8b7e",
   "metadata": {},
   "outputs": [],
   "source": [
    "chosen_features_anova = anova_final_selector.get_support()"
   ]
  },
  {
   "cell_type": "code",
   "execution_count": 17,
   "id": "ec06f837-16b5-4caf-bb61-a0d421021180",
   "metadata": {},
   "outputs": [
    {
     "data": {
      "text/plain": [
       "['pca3',\n",
       " 'pca0',\n",
       " 'pca7',\n",
       " 'pca10',\n",
       " 'pca2',\n",
       " 'pca5',\n",
       " 'pca6',\n",
       " 'pca21',\n",
       " 'pca16',\n",
       " 'pca24',\n",
       " 'pca1',\n",
       " 'pca15',\n",
       " 'pca13',\n",
       " 'pca30',\n",
       " 'pca20',\n",
       " 'pca36',\n",
       " 'pca9',\n",
       " 'pca26',\n",
       " 'pca17',\n",
       " 'pca37']"
      ]
     },
     "execution_count": 17,
     "metadata": {},
     "output_type": "execute_result"
    }
   ],
   "source": [
    "chosen_PCA = [f\"pca{value}\" for value,boolean in zip(rf_top_35_pca_indices,chosen_features_anova) if boolean ]\n",
    "chosen_PCA"
   ]
  },
  {
   "cell_type": "code",
   "execution_count": 18,
   "id": "781f2b73-3669-4717-a1ec-c2d9ff93b014",
   "metadata": {},
   "outputs": [
    {
     "name": "stdout",
     "output_type": "stream",
     "text": [
      "3\n",
      "0\n",
      "7\n",
      "10\n",
      "2\n",
      "5\n",
      "6\n",
      "21\n",
      "16\n",
      "24\n",
      "1\n",
      "15\n",
      "13\n",
      "30\n",
      "20\n",
      "36\n",
      "9\n",
      "26\n",
      "17\n",
      "37\n"
     ]
    }
   ],
   "source": [
    "import re\n",
    "pca_indexes = []\n",
    "for chosen in chosen_PCA:\n",
    "    index = int(re.findall(r'\\d+', chosen)[0])\n",
    "    print(index)\n",
    "    pca_indexes.append(index)\n",
    "    \n",
    "X_columns = X_values.columns\n",
    "weights = pca_40.components_[28]"
   ]
  },
  {
   "cell_type": "code",
   "execution_count": 19,
   "id": "134bf360-9dcf-425f-858f-d8adcde17199",
   "metadata": {},
   "outputs": [],
   "source": [
    "roi_indexes = np.abs(weights).argsort()[::-1][:10]\n",
    "roi_names = [X_columns[i] for i in roi_indexes]\n"
   ]
  },
  {
   "cell_type": "code",
   "execution_count": 20,
   "id": "7b46df0c-5e5d-4515-b440-c3bceca59133",
   "metadata": {},
   "outputs": [
    {
     "data": {
      "text/plain": [
       "200"
      ]
     },
     "execution_count": 20,
     "metadata": {},
     "output_type": "execute_result"
    }
   ],
   "source": [
    "dictionary = {\n",
    "   \n",
    "}\n",
    "\n",
    "indexes_array = []\n",
    "\n",
    "for i,pca_value in enumerate(chosen_PCA):\n",
    "    index = pca_indexes[i]\n",
    "    weight = pca_40.components_[index]\n",
    "    roi_indexes = np.abs(weight).argsort()[::-1][:10]\n",
    "    indexes_array.append(roi_indexes)\n",
    "    dictionary[pca_value] = [X_columns[i] for i in roi_indexes]\n",
    "\n",
    "flattened = [number for array in indexes_array for number in array]\n",
    "unique = np.unique(flattened)\n",
    "int(len(flattened))"
   ]
  },
  {
   "cell_type": "code",
   "execution_count": 15,
   "id": "7420e618-135f-4c42-a9bf-8fe51ffe411e",
   "metadata": {},
   "outputs": [
    {
     "data": {
      "text/plain": [
       "0.8285714285714286"
      ]
     },
     "execution_count": 15,
     "metadata": {},
     "output_type": "execute_result"
    }
   ],
   "source": [
    "#Second Model\n",
    "rf_X = RandomForestClassifier(n_estimators=100, random_state=42)\n",
    "rf_X.fit(X_train_scaled, y_train)\n",
    "rf_top_35_indices = rf_X.feature_importances_.argsort()[-35:][::-1]\n",
    "X_train_35 = X_train_scaled[:, rf_top_35_indices]\n",
    "X_test_35 = x_test_scaled[:, rf_top_35_indices]\n",
    "\n",
    "\n",
    "anova_final_selector = SelectKBest(score_func=f_classif, k=30)\n",
    "X_final = anova_final_selector.fit_transform(X_train_35, y_train)\n",
    "X_test = anova_final_selector.transform(X_test_35)\n",
    "\n",
    "svm_model = SVC(kernel='rbf', C=10, gamma=0.01, random_state=42) #0.01 #C = 10\n",
    "svm_model.fit(X_final, y_train)\n",
    "y_predict = svm_model.predict(X_test)\n",
    "accuracy = accuracy_score(y_test, y_predict)\n",
    "accuracy\n",
    "\n",
    "\n"
   ]
  },
  {
   "cell_type": "code",
   "execution_count": 22,
   "id": "197b9601-9a96-4a39-84c1-acbb2119d2a8",
   "metadata": {},
   "outputs": [
    {
     "data": {
      "text/plain": [
       "array([[-1.29452147, -1.3175757 , -0.32421165, ..., -0.94805035,\n",
       "         0.29712677,  0.41764097],\n",
       "       [-0.3154504 , -0.50970303,  0.53874545, ..., -0.24632212,\n",
       "        -1.41361427, -1.44925456],\n",
       "       [ 0.50857622,  0.56872266, -0.03468665, ...,  0.71940361,\n",
       "        -1.03533451, -0.5035279 ],\n",
       "       ...,\n",
       "       [ 2.77328448,  2.49947484,  1.75316144, ...,  0.96836534,\n",
       "         1.58441706,  2.69230579],\n",
       "       [ 0.32681706,  0.14068817,  0.6984361 , ..., -0.12184401,\n",
       "        -0.40862448,  0.71732683],\n",
       "       [ 0.80421263,  0.77939076,  0.33281586, ...,  1.82876896,\n",
       "         1.29082454,  0.53309372]], shape=(280, 260))"
      ]
     },
     "execution_count": 22,
     "metadata": {},
     "output_type": "execute_result"
    }
   ],
   "source": [
    "names = [X.columns[i] for i in r]"
   ]
  },
  {
   "cell_type": "code",
   "execution_count": null,
   "id": "6d638ec9-5468-426b-bd71-6e3919001d4e",
   "metadata": {},
   "outputs": [],
   "source": []
  }
 ],
 "metadata": {
  "kernelspec": {
   "display_name": "Python 3 (ipykernel)",
   "language": "python",
   "name": "python3"
  },
  "language_info": {
   "codemirror_mode": {
    "name": "ipython",
    "version": 3
   },
   "file_extension": ".py",
   "mimetype": "text/x-python",
   "name": "python",
   "nbconvert_exporter": "python",
   "pygments_lexer": "ipython3",
   "version": "3.12.3"
  }
 },
 "nbformat": 4,
 "nbformat_minor": 5
}
