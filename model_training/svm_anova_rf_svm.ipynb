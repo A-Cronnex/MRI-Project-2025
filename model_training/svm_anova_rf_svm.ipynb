{
 "cells": [
  {
   "cell_type": "code",
   "execution_count": 21,
   "id": "aca12712-5b3d-49b8-80d4-f5a3b1fb6815",
   "metadata": {},
   "outputs": [
    {
     "data": {
      "text/plain": [
       "0.8285714285714286"
      ]
     },
     "execution_count": 21,
     "metadata": {},
     "output_type": "execute_result"
    }
   ],
   "source": [
    "import matplotlib.pyplot as plt\n",
    "from sklearn.svm import SVC\n",
    "import pandas as pd\n",
    "from sklearn.model_selection import train_test_split\n",
    "from sklearn.pipeline import Pipeline\n",
    "from sklearn.ensemble import RandomForestClassifier\n",
    "from sklearn.preprocessing import StandardScaler\n",
    "from sklearn.feature_selection import SelectKBest, f_classif\n",
    "from sklearn.model_selection import GridSearchCV\n",
    "from sklearn.decomposition import PCA\n",
    "from sklearn.metrics import accuracy_score \n",
    "import numpy as np\n",
    "\n",
    "dataset = pd.read_csv(\"../FINAL_CSVs/MD_DATASET_SITE_ID.csv\")\n",
    "\n",
    "X_values = dataset.drop(columns=[\"MRID\",\"diagnosis\",\"site_id\"])\n",
    "Y_values = dataset[\"diagnosis\"]\n",
    "X_train, x_test, y_train, y_test = train_test_split(X_values, Y_values, test_size=0.2, random_state=42) #dividir datasets\n",
    "scaler = StandardScaler()\n",
    "X_train_scaled = scaler.fit_transform(X_train)\n",
    "x_test_scaled = scaler.transform(x_test)\n",
    "\n",
    "rf_X = RandomForestClassifier(n_estimators=100, random_state=42)\n",
    "rf_X.fit(X_train_scaled, y_train)\n",
    "rf_top_35_indices = rf_X.feature_importances_.argsort()[-35:][::-1]\n",
    "X_train_35 = X_train_scaled[:, rf_top_35_indices]\n",
    "X_test_35 = x_test_scaled[:, rf_top_35_indices]\n",
    "\n",
    "\n",
    "anova_final_selector = SelectKBest(score_func=f_classif, k=30)\n",
    "X_final = anova_final_selector.fit_transform(X_train_35, y_train)\n",
    "X_test = anova_final_selector.transform(X_test_35)\n",
    "\n",
    "svm_model = SVC(kernel='rbf', C=10, gamma=0.01, random_state=42) #0.01 #C = 10\n",
    "svm_model.fit(X_final, y_train)\n",
    "y_predict = svm_model.predict(X_test)\n",
    "accuracy = accuracy_score(y_test, y_predict)\n",
    "accuracy\n"
   ]
  },
  {
   "cell_type": "code",
   "execution_count": 14,
   "id": "92030aad-cf2f-4ca7-8b30-19ef61e9e48b",
   "metadata": {},
   "outputs": [],
   "source": [
    "#dataset = pd.read_csv(\"FINAL.csv\")\n",
    "#X_values = dataset.drop(columns = [\"MRID\",\"diagnosis\"])\n",
    "#Y_values = dataset[\"diagnosis\"]"
   ]
  },
  {
   "cell_type": "code",
   "execution_count": 15,
   "id": "2fa3386b-cef5-4962-b34b-32fd4a1807bc",
   "metadata": {},
   "outputs": [
    {
     "data": {
      "text/plain": [
       "<sklearn.metrics._plot.confusion_matrix.ConfusionMatrixDisplay at 0x786bddb7f440>"
      ]
     },
     "execution_count": 15,
     "metadata": {},
     "output_type": "execute_result"
    },
    {
     "data": {
      "image/png": "[encoded data removed]",
      "text/plain": [
       "<Figure size 640x480 with 2 Axes>"
      ]
     },
     "metadata": {},
     "output_type": "display_data"
    }
   ],
   "source": [
    "from sklearn.metrics import confusion_matrix, ConfusionMatrixDisplay\n",
    "cf = confusion_matrix(y_test,y_predict, labels=svm_model.classes_)\n",
    "DISP = ConfusionMatrixDisplay(cf, display_labels=svm_model.classes_)\n",
    "DISP.plot()"
   ]
  },
  {
   "cell_type": "code",
   "execution_count": 16,
   "id": "a58b0707-9c00-4c4f-a492-6fad79298772",
   "metadata": {},
   "outputs": [
    {
     "data": {
      "text/plain": [
       "array([146, 180, 145, 125, 211, 131, 181, 127,  99,  56, 130, 257, 126,\n",
       "       212,  57, 172,  26,  84, 124, 179, 164, 132, 153, 213, 101,  75,\n",
       "        32,  46, 241, 176, 128, 234, 239, 142,  67])"
      ]
     },
     "execution_count": 16,
     "metadata": {},
     "output_type": "execute_result"
    }
   ],
   "source": [
    "rf_top_35_indices"
   ]
  },
  {
   "cell_type": "code",
   "execution_count": 12,
   "id": "2488d176-2f2e-499a-a935-ec03f8f877ad",
   "metadata": {},
   "outputs": [
    {
     "data": {
      "text/plain": [
       "['Right_Basal_Forebrain',\n",
       " 'Right_Frontal_Pole',\n",
       " 'Left_Basal_Forebrain',\n",
       " 'Left_Cerebellum_Exterior',\n",
       " 'Left_Middle_Temporal_Gyrus',\n",
       " 'Left_Inferior_Lateral_Ventricle',\n",
       " 'Left_Frontal_Pole',\n",
       " 'Left_Cerebellum_White_Matter',\n",
       " 'Temporal_Supratemporal_Gray_Matter_Left',\n",
       " 'Temporal_Gray_Matter_Left',\n",
       " 'Right_Inferior_Lateral_Ventricle',\n",
       " 'Left_Triangular_Part_of_the_Inferior_Frontal_Gyrus',\n",
       " 'Right_Cerebellum_White_Matter',\n",
       " 'Right_Occipital_Pole',\n",
       " 'Temporal_White_Matter_Left',\n",
       " 'Right_Central_Operculum',\n",
       " 'Cerebellum_Right',\n",
       " 'Temporal_Supratemporal_Gray_Matter',\n",
       " 'Right_Cerebellum_Exterior',\n",
       " 'Left_Frontal_Operculum',\n",
       " 'Right_Anterior_Insula',\n",
       " 'Right_Lateral_Ventricle',\n",
       " 'Temporal_Lobe_White_Matter_Right',\n",
       " 'Left_Occipital_Pole',\n",
       " 'Frontal_Insular_Gray_Matter_Right',\n",
       " 'Limbic_Cingulate_Gray_Matter',\n",
       " 'Temporal_Right',\n",
       " 'Basal_Ganglia_Left',\n",
       " 'Left_Subcallosal_Area',\n",
       " 'Right_Entorhinal_Area',\n",
       " 'Right_Hippocampus',\n",
       " 'Right_Planum_Polare',\n",
       " 'Left_Planum_Temporale',\n",
       " 'Cerebellar_Vermal_Lobules_I-V',\n",
       " 'Parietal_White_Matter_Right']"
      ]
     },
     "execution_count": 12,
     "metadata": {},
     "output_type": "execute_result"
    }
   ],
   "source": [
    "important_features = [X_train.columns[index] for index in rf_top_35_indices]\n",
    "important_features"
   ]
  },
  {
   "cell_type": "code",
   "execution_count": 11,
   "id": "861a3b68-c3a0-403c-ba3b-081faeec1ee1",
   "metadata": {},
   "outputs": [],
   "source": [
    "import joblib"
   ]
  },
  {
   "cell_type": "code",
   "execution_count": 12,
   "id": "e3b67a7e-af44-448e-b76b-e5de693b90e5",
   "metadata": {},
   "outputs": [
    {
     "data": {
      "text/plain": [
       "['mood_disorder_classificator.joblib']"
      ]
     },
     "execution_count": 12,
     "metadata": {},
     "output_type": "execute_result"
    }
   ],
   "source": [
    "joblib.dump(svm_model,\"mood_disorder_classificator.joblib\")"
   ]
  },
  {
   "cell_type": "code",
   "execution_count": 13,
   "id": "4ad8f718-987d-44a1-b7b4-ebef112f121f",
   "metadata": {},
   "outputs": [
    {
     "data": {
      "text/plain": [
       "['randomForest_classificator.joblib']"
      ]
     },
     "execution_count": 13,
     "metadata": {},
     "output_type": "execute_result"
    }
   ],
   "source": [
    "#do the same with the others\n",
    "joblib.dump(anova_final_selector,\"anova_selector.joblib\")\n",
    "joblib.dump(scaler, \"scaler.joblib\")\n",
    "joblib.dump(rf_X,\"randomForest_classificator.joblib\")"
   ]
  },
  {
   "cell_type": "code",
   "execution_count": 44,
   "id": "57f3a0f3-c679-41dc-8d77-62f66c076b1e",
   "metadata": {},
   "outputs": [],
   "source": [
    "def create_dataframe(dataframe, site_name, diagnosis):\n",
    "    df = pd.DataFrame(columns=dataframe.columns)\n",
    "    counter = 0\n",
    "    for value in range(dataframe.shape[0]):\n",
    "        if dataframe.iloc[value, -2] == diagnosis and dataframe.iloc[value, -1] == site_name:\n",
    "            df.loc[len(df)] = dataframe.iloc[value]\n",
    "            counter += 1\n",
    "        if counter >= 50:\n",
    "            break\n",
    "    return df\n",
    "\n",
    "        "
   ]
  },
  {
   "cell_type": "code",
   "execution_count": 49,
   "id": "d13ec491-a4ec-4838-b079-ad5a5dc20dee",
   "metadata": {},
   "outputs": [],
   "source": [
    "df_SRBPS_OPEN_BP = create_dataframe(dataset, site_name = 'SRBPS_OPEN', diagnosis = 1)"
   ]
  },
  {
   "cell_type": "code",
   "execution_count": 50,
   "id": "fb630e82-34dc-4fd0-9692-a5eac1aaf209",
   "metadata": {},
   "outputs": [],
   "source": [
    "df_SRBPS_OPEN_CONTROL = create_dataframe(dataset, site_name = 'SRBPS_OPEN', diagnosis = 0)\n",
    "df_SRBPS_OPEN_MDD = create_dataframe(dataset, site_name = 'SRBPS_OPEN', diagnosis = 2)"
   ]
  },
  {
   "cell_type": "code",
   "execution_count": 51,
   "id": "44fab1ee-1b6a-43e0-b5d6-a265504c3458",
   "metadata": {},
   "outputs": [],
   "source": [
    "dataset = [df_SRBPS_OPEN_BP,df_SRBPS_OPEN_CONTROL,df_SRBPS_OPEN_MDD]\n",
    "dataset_SRBPS = pd.concat(dataset)"
   ]
  },
  {
   "cell_type": "code",
   "execution_count": 62,
   "id": "51cb7716-f529-42d5-af09-518a6a98f491",
   "metadata": {},
   "outputs": [
    {
     "name": "stdout",
     "output_type": "stream",
     "text": [
      "[1 0 2]\n",
      "int64\n"
     ]
    }
   ],
   "source": [
    "X_values = dataset_SRBPS.drop(columns=[\"MRID\",\"diagnosis\",\"site_id\"])\n",
    "Y_values = dataset_SRBPS[\"diagnosis\"].astype(int)\n",
    "print(Y_values.unique())\n",
    "print(Y_values.dtype)\n"
   ]
  },
  {
   "cell_type": "code",
   "execution_count": 63,
   "id": "3fd4b63c-e47f-49c7-98c4-5b2835075eec",
   "metadata": {},
   "outputs": [
    {
     "name": "stdout",
     "output_type": "stream",
     "text": [
      "[2 1 0]\n",
      "int64\n"
     ]
    }
   ],
   "source": [
    "\n",
    "X_train, x_test, y_train, y_test = train_test_split(X_values, Y_values, test_size=0.2, random_state=42) #dividir datasets\n",
    "scaler = StandardScaler()\n",
    "X_train_scaled = scaler.fit_transform(X_train)\n",
    "x_test_scaled = scaler.transform(x_test)\n",
    "\n",
    "rf_X = RandomForestClassifier(n_estimators=100, random_state=42)\n",
    "print(y_train.unique())\n",
    "print(y_train.dtype)\n"
   ]
  },
  {
   "cell_type": "code",
   "execution_count": 64,
   "id": "b84337fa-1af0-4e3e-befc-e8005fda5985",
   "metadata": {},
   "outputs": [
    {
     "data": {
      "text/plain": [
       "0.896551724137931"
      ]
     },
     "execution_count": 64,
     "metadata": {},
     "output_type": "execute_result"
    }
   ],
   "source": [
    "rf_X.fit(X_train_scaled, y_train)\n",
    "rf_top_35_indices = rf_X.feature_importances_.argsort()[-35:][::-1]\n",
    "X_train_35 = X_train_scaled[:, rf_top_35_indices]\n",
    "X_test_35 = x_test_scaled[:, rf_top_35_indices]\n",
    "\n",
    "\n",
    "anova_final_selector = SelectKBest(score_func=f_classif, k=30)\n",
    "X_final = anova_final_selector.fit_transform(X_train_35, y_train)\n",
    "X_test = anova_final_selector.transform(X_test_35)\n",
    "\n",
    "svm_model = SVC(kernel='rbf', C=10, gamma=0.01, random_state=42) #0.01 #C = 10\n",
    "svm_model.fit(X_final, y_train)\n",
    "y_predict = svm_model.predict(X_test)\n",
    "accuracy = accuracy_score(y_test, y_predict)\n",
    "accuracy"
   ]
  },
  {
   "cell_type": "code",
   "execution_count": 67,
   "id": "1097da26-1469-46be-9efb-14f1035f295c",
   "metadata": {},
   "outputs": [
    {
     "data": {
      "text/plain": [
       "['randomForest_classificator.joblib']"
      ]
     },
     "execution_count": 67,
     "metadata": {},
     "output_type": "execute_result"
    }
   ],
   "source": [
    "import joblib\n",
    "joblib.dump(svm_model,\"mood_disorder_classificator.joblib\")\n",
    "joblib.dump(anova_final_selector,\"anova_selector.joblib\")\n",
    "joblib.dump(scaler, \"scaler.joblib\")\n",
    "joblib.dump(rf_X,\"randomForest_classificator.joblib\")"
   ]
  },
  {
   "cell_type": "code",
   "execution_count": 68,
   "id": "fc3d0add-c40c-4d1f-9647-f9a12631cbad",
   "metadata": {},
   "outputs": [],
   "source": [
    "def pipeline_preprocess(X_new, rf_indices, anova_selector, trained_model,scaler):\n",
    "    X_scaled = scaler.transform(X_new)\n",
    "    \n",
    "    # Step 2: Select RF Top Features\n",
    "    X_rf_selected = X_scaled[:, rf_indices]\n",
    "    \n",
    "    # Step 3: Apply ANOVA selector\n",
    "    X_anova_selected = anova_selector.transform(X_rf_selected)\n",
    "    print(np.round(X_anova_selected[0],2))\n",
    "    # Step 4: Predict\n",
    "    return trained_model.predict(X_anova_selected)"
   ]
  },
  {
   "cell_type": "code",
   "execution_count": 69,
   "id": "86013833-f967-4604-ba74-c39c1721ba84",
   "metadata": {},
   "outputs": [],
   "source": [
    "dataset = pd.read_csv(\"FINAL.csv\")\n",
    "X_values = dataset.drop(columns = [\"MRID\",\"diagnosis\"])\n",
    "Y_values = dataset[\"diagnosis\"]"
   ]
  },
  {
   "cell_type": "code",
   "execution_count": 72,
   "id": "7f144430-2c96-41c5-abd3-65a3d9b84fb6",
   "metadata": {},
   "outputs": [],
   "source": [
    "selector = joblib.load(\"anova_selector.joblib\")\n",
    "scaler = joblib.load(\"scaler.joblib\")\n",
    "model = joblib.load(\"mood_disorder_classificator.joblib\")\n",
    "rf_indices = joblib.load(\"randomForest_classificator.joblib\")\n",
    "rf_indices = rf_indices.feature_importances_.argsort()[-35:][::-1]\n",
    "\n"
   ]
  },
  {
   "cell_type": "code",
   "execution_count": 73,
   "id": "d59af026-6c29-438c-be04-2809ed80d6d7",
   "metadata": {},
   "outputs": [
    {
     "name": "stdout",
     "output_type": "stream",
     "text": [
      "[-1.01  1.1  -1.01 -0.38 -1.09 -0.73 -0.3  -0.54 -0.09 -0.91  0.11 -1.06\n",
      " -0.62  0.58  1.1  -0.96  0.91 -0.89 -0.78 -0.73  0.53  0.33 -0.64  0.11\n",
      " -0.46 -0.94  1.02 -0.82  0.52  0.59]\n"
     ]
    }
   ],
   "source": [
    "y_pred = pipeline_preprocess(X_values,rf_indices,selector,model,scaler)"
   ]
  },
  {
   "cell_type": "code",
   "execution_count": 74,
   "id": "5d62798f-1140-4a2c-a562-50eb008a1716",
   "metadata": {},
   "outputs": [
    {
     "data": {
      "text/plain": [
       "array([1, 1, 1, 0, 1, 0, 0, 1])"
      ]
     },
     "execution_count": 74,
     "metadata": {},
     "output_type": "execute_result"
    }
   ],
   "source": [
    "y_pred"
   ]
  },
  {
   "cell_type": "code",
   "execution_count": null,
   "id": "5c91af04-466c-43ac-996e-d3e0c9222d8e",
   "metadata": {},
   "outputs": [],
   "source": []
  }
 ],
 "metadata": {
  "kernelspec": {
   "display_name": "Python 3 (ipykernel)",
   "language": "python",
   "name": "python3"
  },
  "language_info": {
   "codemirror_mode": {
    "name": "ipython",
    "version": 3
   },
   "file_extension": ".py",
   "mimetype": "text/x-python",
   "name": "python",
   "nbconvert_exporter": "python",
   "pygments_lexer": "ipython3",
   "version": "3.12.3"
  }
 },
 "nbformat": 4,
 "nbformat_minor": 5
}
